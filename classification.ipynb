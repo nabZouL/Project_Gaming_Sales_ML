{
 "cells": [
  {
   "cell_type": "code",
   "execution_count": 71,
   "metadata": {},
   "outputs": [],
   "source": [
    "import pandas as pd\n",
    "import numpy as np\n",
    "import joblib\n",
    "\n",
    "from sklearn.preprocessing import MinMaxScaler\n",
    "from sklearn.tree import DecisionTreeClassifier\n",
    "from sklearn.model_selection import train_test_split\n",
    "\n",
    "df = pd.read_csv('/home/linux/Documents/Test_App/csv_file.csv', index_col = 0)\n",
    "\n",
    "# Dichotomisation des variables catégorielles et de la variable cible\n",
    "publisher = pd.get_dummies(df['Publisher'], prefix = 'publisher')\n",
    "platform = pd.get_dummies(df['Platform'], prefix = 'platform')\n",
    "genre = pd.get_dummies(df['Genre'], prefix = 'genre')\n",
    "\n",
    "df['y'] = pd.qcut(df['Global_Sales'], q = [0, 0.25, 0.5, 0.75, 1], labels = [1,2,3,4])\n",
    "\n",
    "# Ajout des colonnes dichotomisée au DataFrame\n",
    "df = df.join(publisher)\n",
    "df = df.join(platform)\n",
    "df = df.join(genre)\n",
    "\n",
    "# Homogénéisation du barème des notes (tout est ramené sur 10)\n",
    "df['Test_MC'] = df['Test_MC'] / 10\n",
    "df['Test_JV'] = df['Test_JV'] / 2\n",
    "df['Players_JV'] = df['Players_JV'] / 2\n",
    "\n",
    "\n",
    "# Suppression des colonnes inutiles\n",
    "df = df.drop(['Publisher','Platform','Genre', 'Global_Sales', 'NA_Sales','EU_Sales','JP_Sales','Other_Sales','Year'], axis = 1)\n",
    "\n",
    "# Feats & Target\n",
    "X = df.drop('y', axis = 1)\n",
    "Y = df['y']\n",
    "\n",
    "# Train Test Split\n",
    "X_train, X_test, y_train, y_test = train_test_split(X,Y, test_size = 0.2)\n",
    "\n",
    "# Scaler\n",
    "sc = MinMaxScaler()\n",
    "X_train_sc = sc.fit_transform(X_train)\n",
    "X_test_sc = sc.transform(X_test)\n",
    "\n",
    "##### ARBRE DE DECISION CLASSIFICATION\n",
    "\n",
    "model_classification = DecisionTreeClassifier()\n",
    "model_classification.fit(X_train_sc, y_train)\n",
    "\n",
    "# Save the model as a pickle in a file\n",
    "joblib.dump(model_classification, '/home/linux/Documents/Test_App/models/model_classification.pkl')\n",
    "X.to_csv('X_clf_file.csv', index = False)\n",
    "Y.to_csv('Y_clf_file.csv', index = False)"
   ]
  }
 ],
 "metadata": {
  "kernelspec": {
   "display_name": "base",
   "language": "python",
   "name": "python3"
  },
  "language_info": {
   "codemirror_mode": {
    "name": "ipython",
    "version": 3
   },
   "file_extension": ".py",
   "mimetype": "text/x-python",
   "name": "python",
   "nbconvert_exporter": "python",
   "pygments_lexer": "ipython3",
   "version": "3.10.11"
  },
  "orig_nbformat": 4
 },
 "nbformat": 4,
 "nbformat_minor": 2
}
