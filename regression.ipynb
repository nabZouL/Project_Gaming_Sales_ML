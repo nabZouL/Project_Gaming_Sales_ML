{
 "cells": [
  {
   "cell_type": "code",
   "execution_count": 2,
   "metadata": {},
   "outputs": [
    {
     "data": {
      "text/plain": [
       "\"# Load the model from the file\\nmodel_classification_from_joblib = joblib.load('/home/linux/Documents/Test_App/models/model_regression.pkl')\\n  \\n# Use the loaded model to make predictions\\nmodel_classification_from_joblib.predict(X_test)\""
      ]
     },
     "execution_count": 2,
     "metadata": {},
     "output_type": "execute_result"
    }
   ],
   "source": [
    "import pandas as pd\n",
    "import numpy as np\n",
    "import joblib\n",
    "\n",
    "from sklearn.pipeline import make_pipeline, Pipeline\n",
    "from sklearn.preprocessing import MinMaxScaler, OneHotEncoder\n",
    "from sklearn.impute import SimpleImputer    \n",
    "from sklearn.compose import ColumnTransformer\n",
    "from sklearn.tree import DecisionTreeRegressor\n",
    "from sklearn.model_selection import train_test_split\n",
    "\n",
    "df = pd.read_csv('/home/linux/Documents/Test_App/csv_file.csv')\n",
    "df = df.drop(['Name','EU_Sales','NA_Sales','JP_Sales','Other_Sales','Year'], axis = 1)\n",
    "\n",
    "X, Y = df.drop('Global_Sales', axis =1), df['Global_Sales']\n",
    "\n",
    "# Séparation des variables numériques et catégorielles\n",
    "num_vars = X.select_dtypes(exclude=['object']).columns\n",
    "cat_vars = X.drop(num_vars, axis = 1).columns\n",
    "\n",
    "# Transformateur numérique\n",
    "numeric_transformer = make_pipeline(\n",
    "    (SimpleImputer(strategy = 'median')), \n",
    "    (MinMaxScaler())\n",
    ")\n",
    "\n",
    "# Transformateur catégorielle\n",
    "categorical_transformer = make_pipeline(\n",
    "    (SimpleImputer(strategy ='most_frequent')),\n",
    "    (OneHotEncoder(handle_unknown=\"ignore\"))\n",
    ")\n",
    "\n",
    "# Combinaison des transformateur : preprocessor\n",
    "preprocessor = ColumnTransformer(\n",
    "    transformers = [('num', numeric_transformer, num_vars),('cat', categorical_transformer, cat_vars)]\n",
    ")\n",
    "\n",
    "# Pipeline finale\n",
    "model_regression = Pipeline(\n",
    "    steps = [('preprocessing',preprocessor),('classification',DecisionTreeRegressor(random_state = 0))]\n",
    ")\n",
    "\n",
    "X_train, X_test, y_train, y_test = train_test_split(X,Y,test_size = 0.2,random_state=0)\n",
    "\n",
    "# Entraîner le pipeline modèle\n",
    "model_regression.fit(X_train, y_train)\n",
    "\n",
    "# Save the model as a pickle in a file\n",
    "joblib.dump(model_regression, '/home/linux/Documents/Test_App/models/model_regression.pkl')\n",
    "  \n",
    "\"\"\"# Load the model from the file\n",
    "model_classification_from_joblib = joblib.load('/home/linux/Documents/Test_App/models/model_regression.pkl')\n",
    "  \n",
    "# Use the loaded model to make predictions\n",
    "model_classification_from_joblib.predict(X_test)\"\"\"\n"
   ]
  }
 ],
 "metadata": {
  "kernelspec": {
   "display_name": "base",
   "language": "python",
   "name": "python3"
  },
  "language_info": {
   "codemirror_mode": {
    "name": "ipython",
    "version": 3
   },
   "file_extension": ".py",
   "mimetype": "text/x-python",
   "name": "python",
   "nbconvert_exporter": "python",
   "pygments_lexer": "ipython3",
   "version": "3.10.11"
  },
  "orig_nbformat": 4
 },
 "nbformat": 4,
 "nbformat_minor": 2
}
